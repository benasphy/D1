{
  "nbformat": 4,
  "nbformat_minor": 0,
  "metadata": {
    "colab": {
      "provenance": [],
      "authorship_tag": "ABX9TyO1d8FcMhmI6BYSID/Wuv2E",
      "include_colab_link": true
    },
    "kernelspec": {
      "name": "python3",
      "display_name": "Python 3"
    },
    "language_info": {
      "name": "python"
    }
  },
  "cells": [
    {
      "cell_type": "markdown",
      "metadata": {
        "id": "view-in-github",
        "colab_type": "text"
      },
      "source": [
        "<a href=\"https://colab.research.google.com/github/benasphy/D1/blob/main/Gym_Attendance.ipynb\" target=\"_parent\"><img src=\"https://colab.research.google.com/assets/colab-badge.svg\" alt=\"Open In Colab\"/></a>"
      ]
    },
    {
      "cell_type": "code",
      "execution_count": 1,
      "metadata": {
        "colab": {
          "base_uri": "https://localhost:8080/"
        },
        "id": "R6PDuji0LhHs",
        "outputId": "908ffec7-ac5b-4b14-92f7-73aa93ea79f5"
      },
      "outputs": [
        {
          "output_type": "stream",
          "name": "stdout",
          "text": [
            "Requirement already satisfied: scikit-learn in /usr/local/lib/python3.10/dist-packages (1.5.2)\n",
            "Requirement already satisfied: graphviz in /usr/local/lib/python3.10/dist-packages (0.20.3)\n",
            "Requirement already satisfied: numpy>=1.19.5 in /usr/local/lib/python3.10/dist-packages (from scikit-learn) (1.26.4)\n",
            "Requirement already satisfied: scipy>=1.6.0 in /usr/local/lib/python3.10/dist-packages (from scikit-learn) (1.13.1)\n",
            "Requirement already satisfied: joblib>=1.2.0 in /usr/local/lib/python3.10/dist-packages (from scikit-learn) (1.4.2)\n",
            "Requirement already satisfied: threadpoolctl>=3.1.0 in /usr/local/lib/python3.10/dist-packages (from scikit-learn) (3.5.0)\n"
          ]
        }
      ],
      "source": [
        "pip install scikit-learn graphviz"
      ]
    },
    {
      "cell_type": "code",
      "source": [
        "from sklearn.tree import DecisionTreeClassifier\n",
        "from sklearn import tree\n",
        "import graphviz\n",
        "\n",
        "X = [[0], [1], [2], [2], [1], [0],[2], [1], [0], [2]]\n",
        "y = [0,0,1,1,1,0,1,1,0,1]\n",
        "\n",
        "clf = DecisionTreeClassifier()\n",
        "clf = clf.fit(X,y)\n",
        "\n",
        "new_data = [[1]]\n",
        "prediction = clf.predict(new_data)\n",
        "print(\"Prediction for energy level 1 (medium):\", \"Goes to Gym\" if prediction[0] == 1 else \"Doesn't go to Gym\")\n",
        "\n",
        "dot_data = tree.export_graphviz( clf, out_file = None,\n",
        "                               feature_names = [\"Energy Level\"],\n",
        "                               class_names = ['No Gym ', 'Goes to Gym'],\n",
        "                                filled = True, rounded = True,\n",
        "                                special_characters = True\n",
        "\n",
        "                                )\n",
        "\n",
        "graph = graphviz.Source(dot_data)\n",
        "graph.render(\"gym_Decision_tree\")\n",
        "graph.view()"
      ],
      "metadata": {
        "colab": {
          "base_uri": "https://localhost:8080/",
          "height": 55
        },
        "id": "55Vp-fLLMlZ7",
        "outputId": "022113f9-4e0f-40bd-bac6-753c9f315572"
      },
      "execution_count": 4,
      "outputs": [
        {
          "output_type": "stream",
          "name": "stdout",
          "text": [
            "Prediction for energy level 1 (medium): Goes to Gym\n"
          ]
        },
        {
          "output_type": "execute_result",
          "data": {
            "text/plain": [
              "'gym_Decision_tree.pdf'"
            ],
            "application/vnd.google.colaboratory.intrinsic+json": {
              "type": "string"
            }
          },
          "metadata": {},
          "execution_count": 4
        }
      ]
    }
  ]
}